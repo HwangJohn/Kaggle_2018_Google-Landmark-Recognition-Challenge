{
  "nbformat": 4,
  "nbformat_minor": 0,
  "metadata": {
    "colab": {
      "name": "Transferlearning(공유용).ipynb",
      "version": "0.3.2",
      "views": {},
      "default_view": {},
      "provenance": [],
      "collapsed_sections": [],
      "toc_visible": true
    },
    "kernelspec": {
      "name": "python3",
      "display_name": "Python 3"
    },
    "accelerator": "GPU"
  },
  "cells": [
    {
      "metadata": {
        "id": "-R6Q3f2vunUQ",
        "colab_type": "text"
      },
      "cell_type": "markdown",
      "source": [
        "# 데이터 받는 예시 (Google Cloud Storage, GCS)\n",
        "\n",
        "1. Shell에서 받기 (장점 : 속도가 조금더 빠름, 단점 : 원본사이즈 이미지임)\n",
        "  1. Google Drive로 들어가서 Colaboratory로 다운받은 ipynb을 열거나, Colaboratory로 바로 들어가서 ipynb를 불러옴\n",
        "  2. 공개해드린 GCS에서 gsutil(Google cloud sdk, local에서 설치가능) 을 써서 특정 폴더의 이미지 다운로드\n",
        "    * 9633레이블의 이미지들 다운받기\n",
        "    * ex) $gsutil -m cp -r gs://<bucket-name>/images/train/9633/*\n",
        "2. Shell + Python 라이브러리를 통해 받기 (장점 : python library들을 통해 몇개 정도 받을지 정할수 있음, 단점 : 원본사이즈 이미지임=리사이즈해야함)\n",
        "  1. 예제는 해당 섹션 참조\n",
        "3. python 라이브러리를 통해 URL에서 resize하면서 받기\n",
        "  1. 예제는 해당 섹션 참조"
      ]
    },
    {
      "metadata": {
        "id": "jC_eHjyKz3zY",
        "colab_type": "text"
      },
      "cell_type": "markdown",
      "source": [
        "### Pytorch관련 라이브러리 다운로드\n",
        "* Pytorch를 사용한 이유, Transferlearning 예제 공유\n",
        "* Train Model ~ Train and evaluate는 Pytorch tutorial을 참조함"
      ]
    },
    {
      "metadata": {
        "id": "AAkxvY2CB3XF",
        "colab_type": "code",
        "colab": {
          "autoexec": {
            "startup": false,
            "wait_interval": 0
          },
          "output_extras": [
            {}
          ],
          "base_uri": "https://localhost:8080/",
          "height": 136
        },
        "outputId": "5acf6b86-2a77-43d9-efad-bffdde88efc0",
        "executionInfo": {
          "status": "ok",
          "timestamp": 1521478734353,
          "user_tz": -540,
          "elapsed": 39777,
          "user": {
            "displayName": "John Hwang",
            "photoUrl": "https://lh3.googleusercontent.com/a/default-user=s128",
            "userId": "100225940964623691936"
          }
        }
      },
      "cell_type": "code",
      "source": [
        "!pip3 install http://download.pytorch.org/whl/cu80/torch-0.3.0.post4-cp36-cp36m-linux_x86_64.whl"
      ],
      "execution_count": 0,
      "outputs": [
        {
          "output_type": "stream",
          "text": [
            "Collecting torch==0.3.0.post4 from http://download.pytorch.org/whl/cu80/torch-0.3.0.post4-cp36-cp36m-linux_x86_64.whl\n",
            "  Downloading http://download.pytorch.org/whl/cu80/torch-0.3.0.post4-cp36-cp36m-linux_x86_64.whl (592.3MB)\n",
            "\u001b[K    100% |████████████████████████████████| 592.3MB 25.1MB/s \n",
            "\u001b[?25hRequirement already satisfied: pyyaml in /usr/local/lib/python3.6/dist-packages (from torch==0.3.0.post4)\n",
            "Requirement already satisfied: numpy in /usr/local/lib/python3.6/dist-packages (from torch==0.3.0.post4)\n",
            "Installing collected packages: torch\n",
            "Successfully installed torch-0.3.0.post4\n"
          ],
          "name": "stdout"
        }
      ]
    },
    {
      "metadata": {
        "id": "ZQ1ZL2eTB6Vz",
        "colab_type": "code",
        "colab": {
          "autoexec": {
            "startup": false,
            "wait_interval": 0
          },
          "output_extras": [
            {}
          ],
          "base_uri": "https://localhost:8080/",
          "height": 272
        },
        "outputId": "89d5954e-e21a-4a0a-89a3-9d7adba24667",
        "executionInfo": {
          "status": "ok",
          "timestamp": 1521478739587,
          "user_tz": -540,
          "elapsed": 5198,
          "user": {
            "displayName": "John Hwang",
            "photoUrl": "https://lh3.googleusercontent.com/a/default-user=s128",
            "userId": "100225940964623691936"
          }
        }
      },
      "cell_type": "code",
      "source": [
        "!pip3 install torchvision"
      ],
      "execution_count": 0,
      "outputs": [
        {
          "output_type": "stream",
          "text": [
            "Collecting torchvision\n",
            "  Downloading torchvision-0.2.0-py2.py3-none-any.whl (48kB)\n",
            "\u001b[K    100% |████████████████████████████████| 51kB 1.8MB/s \n",
            "\u001b[?25hRequirement already satisfied: six in /usr/local/lib/python3.6/dist-packages (from torchvision)\n",
            "Requirement already satisfied: numpy in /usr/local/lib/python3.6/dist-packages (from torchvision)\n",
            "Requirement already satisfied: torch in /usr/local/lib/python3.6/dist-packages (from torchvision)\n",
            "Collecting pillow>=4.1.1 (from torchvision)\n",
            "  Downloading Pillow-5.0.0-cp36-cp36m-manylinux1_x86_64.whl (5.9MB)\n",
            "\u001b[K    100% |████████████████████████████████| 5.9MB 234kB/s \n",
            "\u001b[?25hRequirement already satisfied: pyyaml in /usr/local/lib/python3.6/dist-packages (from torch->torchvision)\n",
            "Installing collected packages: pillow, torchvision\n",
            "  Found existing installation: Pillow 4.0.0\n",
            "    Uninstalling Pillow-4.0.0:\n",
            "      Successfully uninstalled Pillow-4.0.0\n",
            "Successfully installed pillow-5.0.0 torchvision-0.2.0\n"
          ],
          "name": "stdout"
        }
      ]
    },
    {
      "metadata": {
        "id": "S7dfiyWFB_14",
        "colab_type": "code",
        "colab": {
          "autoexec": {
            "startup": false,
            "wait_interval": 0
          },
          "output_extras": [
            {}
          ],
          "base_uri": "https://localhost:8080/",
          "height": 391
        },
        "outputId": "4e679193-70df-4815-9b1e-52ebf43c6f59",
        "executionInfo": {
          "status": "ok",
          "timestamp": 1521478751801,
          "user_tz": -540,
          "elapsed": 12182,
          "user": {
            "displayName": "John Hwang",
            "photoUrl": "https://lh3.googleusercontent.com/a/default-user=s128",
            "userId": "100225940964623691936"
          }
        }
      },
      "cell_type": "code",
      "source": [
        "!pip install Pillow==4.0.0\n",
        "!pip install PIL\n",
        "!pip install image"
      ],
      "execution_count": 0,
      "outputs": [
        {
          "output_type": "stream",
          "text": [
            "Collecting Pillow==4.0.0\n",
            "  Downloading Pillow-4.0.0-cp36-cp36m-manylinux1_x86_64.whl (5.6MB)\n",
            "\u001b[K    100% |████████████████████████████████| 5.6MB 237kB/s \n",
            "\u001b[?25hRequirement already satisfied: olefile in /usr/local/lib/python3.6/dist-packages (from Pillow==4.0.0)\n",
            "Installing collected packages: Pillow\n",
            "  Found existing installation: Pillow 5.0.0\n",
            "    Uninstalling Pillow-5.0.0:\n",
            "      Successfully uninstalled Pillow-5.0.0\n",
            "Successfully installed Pillow-4.0.0\n",
            "Collecting PIL\n",
            "\u001b[31m  Could not find a version that satisfies the requirement PIL (from versions: )\u001b[0m\n",
            "\u001b[31mNo matching distribution found for PIL\u001b[0m\n",
            "Collecting image\n",
            "  Downloading image-1.5.20-py2.py3-none-any.whl\n",
            "Requirement already satisfied: pillow in /usr/local/lib/python3.6/dist-packages (from image)\n",
            "Collecting django (from image)\n",
            "  Downloading Django-2.0.3-py3-none-any.whl (7.1MB)\n",
            "\u001b[K    100% |████████████████████████████████| 7.1MB 202kB/s \n",
            "\u001b[?25hRequirement already satisfied: olefile in /usr/local/lib/python3.6/dist-packages (from pillow->image)\n",
            "Requirement already satisfied: pytz in /usr/local/lib/python3.6/dist-packages (from django->image)\n",
            "Installing collected packages: django, image\n",
            "Successfully installed django-2.0.3 image-1.5.20\n"
          ],
          "name": "stdout"
        }
      ]
    },
    {
      "metadata": {
        "id": "1OOM11VACBMJ",
        "colab_type": "code",
        "colab": {
          "autoexec": {
            "startup": false,
            "wait_interval": 0
          }
        }
      },
      "cell_type": "code",
      "source": [
        "# License: BSD\n",
        "# Author: Sasank Chilamkurthy\n",
        "\n",
        "from __future__ import print_function, division\n",
        "\n",
        "import torch\n",
        "import torch.nn as nn\n",
        "import torch.optim as optim\n",
        "from torch.optim import lr_scheduler\n",
        "from torch.autograd import Variable\n",
        "import numpy as np\n",
        "import torchvision\n",
        "from torchvision import datasets, models, transforms\n",
        "import matplotlib.pyplot as plt\n",
        "import time\n",
        "import os\n",
        "import copy\n",
        "\n",
        "import pandas as pd # data processing, CSV file I/O (e.g. pd.read_csv)\n",
        "import seaborn as sns\n",
        "%matplotlib inline\n",
        "\n",
        "plt.ion()   # interactive mode"
      ],
      "execution_count": 0,
      "outputs": []
    },
    {
      "metadata": {
        "id": "YF1VSw0WCNk3",
        "colab_type": "text"
      },
      "cell_type": "markdown",
      "source": [
        "## Load Data"
      ]
    },
    {
      "metadata": {
        "id": "mv0xI5nfX4P4",
        "colab_type": "text"
      },
      "cell_type": "markdown",
      "source": [
        "### Load Index file(.csv) From GCS(Google Cloud Storage)"
      ]
    },
    {
      "metadata": {
        "id": "XY-gmjfpQdom",
        "colab_type": "code",
        "colab": {
          "autoexec": {
            "startup": false,
            "wait_interval": 0
          }
        }
      },
      "cell_type": "code",
      "source": [
        "!gsutil ls -al gs://<bucke-name>\n",
        "!gsutil ls -al gs://<bucke-name>/images"
      ],
      "execution_count": 0,
      "outputs": []
    },
    {
      "metadata": {
        "id": "gPJnN4S8HGK3",
        "colab_type": "code",
        "colab": {
          "autoexec": {
            "startup": false,
            "wait_interval": 0
          }
        }
      },
      "cell_type": "code",
      "source": [
        "!gsutil -m cp -r gs://<bucke-name>/train.csv ."
      ],
      "execution_count": 0,
      "outputs": []
    },
    {
      "metadata": {
        "id": "lQvf-TtSyvtl",
        "colab_type": "text"
      },
      "cell_type": "markdown",
      "source": [
        "### 1.Shell에서 받기"
      ]
    },
    {
      "metadata": {
        "id": "zhHo6BBAyufF",
        "colab_type": "code",
        "colab": {
          "autoexec": {
            "startup": false,
            "wait_interval": 0
          }
        }
      },
      "cell_type": "code",
      "source": [
        "!gsutil -m cp -r gs://<bucke-name>/images/train/2743/* ."
      ],
      "execution_count": 0,
      "outputs": []
    },
    {
      "metadata": {
        "id": "aZALH2k0oduT",
        "colab_type": "text"
      },
      "cell_type": "markdown",
      "source": [
        "### 2.from GCS (Shell + Python)"
      ]
    },
    {
      "metadata": {
        "id": "MSrjIOCxnXaM",
        "colab_type": "code",
        "colab": {
          "autoexec": {
            "startup": false,
            "wait_interval": 0
          }
        }
      },
      "cell_type": "code",
      "source": [
        "!mkdir -p images/train/9633\n",
        "!mkdir -p images/train/6051\n",
        "!mkdir -p images/val/9633\n",
        "!mkdir -p images/val/6051"
      ],
      "execution_count": 0,
      "outputs": []
    },
    {
      "metadata": {
        "id": "tOBmRTDao87B",
        "colab_type": "code",
        "colab": {
          "autoexec": {
            "startup": false,
            "wait_interval": 0
          }
        }
      },
      "cell_type": "code",
      "source": [
        "import shlex, subprocess\n",
        "from subprocess import call\n",
        "\n",
        "def downloadFromGCS(df, path):\n",
        "  for index, row in df.iterrows():\n",
        "    command_line = 'gsutil -m cp gs://<bucke-name>/images/train/'+str(row['landmark_id'])+'/'+row['id']+'.jpg'+' ./images/'+path+'/'+str(row['landmark_id'])+'/'\n",
        "    args = shlex.split(command_line)\n",
        "    print(args)\n",
        "    subprocess.Popen(args)\n",
        "\n",
        "\n",
        "train_data = pd.read_csv('train.csv', names=['id','url','landmark_id'])\n",
        "downloadFromGCS(train_data[train_data[\"landmark_id\"] == 9633].take(range(0,20)), 'train')\n",
        "downloadFromGCS(train_data[train_data[\"landmark_id\"] == 6051].take(range(0,20)), 'train')\n",
        "downloadFromGCS(train_data[train_data[\"landmark_id\"] == 9633].take(range(20,21)), 'val')\n",
        "downloadFromGCS(train_data[train_data[\"landmark_id\"] == 6051].take(range(20,21)), 'val')"
      ],
      "execution_count": 0,
      "outputs": []
    },
    {
      "metadata": {
        "id": "mAUCihG3oNVQ",
        "colab_type": "text"
      },
      "cell_type": "markdown",
      "source": [
        "### 3.python 라이브러리를 통해 URL에서 resize하면서 받기"
      ]
    },
    {
      "metadata": {
        "id": "-p3sCNm7edbm",
        "colab_type": "code",
        "colab": {
          "autoexec": {
            "startup": false,
            "wait_interval": 0
          }
        }
      },
      "cell_type": "code",
      "source": [
        "train_data = pd.read_csv('train.csv', names=['id','url','landmark_id'])\n",
        "l9633 = train_data[train_data[\"landmark_id\"] == 9633].take(range(0,1000))\n",
        "l6051 = train_data[train_data[\"landmark_id\"] == 6051].take(range(0,1000))\n",
        "frames = [l9633, l6051]\n",
        "pd.concat(frames).to_csv(\"train_tmp.csv\", header=False, index=False)\n",
        "\n",
        "l9633 = train_data[train_data[\"landmark_id\"] == 9633].take(range(1000,2000))\n",
        "l6051 = train_data[train_data[\"landmark_id\"] == 6051].take(range(1000,2000))\n",
        "frames = [l9633, l6051]\n",
        "pd.concat(frames).to_csv(\"train_val.csv\", header=False, index=False)"
      ],
      "execution_count": 0,
      "outputs": []
    },
    {
      "metadata": {
        "id": "5l5JRS4IId2S",
        "colab_type": "code",
        "colab": {
          "autoexec": {
            "startup": false,
            "wait_interval": 0
          }
        }
      },
      "cell_type": "code",
      "source": [
        "import sys, os, multiprocessing, csv\n",
        "from urllib import request, error\n",
        "from PIL import Image\n",
        "from io import BytesIO\n",
        "\n",
        "def parse_data(data_file):\n",
        "    csvfile = open(data_file, 'r')\n",
        "    csvreader = csv.reader(csvfile)\n",
        "    key_url_list = [line for line in csvreader]\n",
        "    return key_url_list[1:]  # Chop off header\n",
        "  \n",
        "def download_image(key_url):\n",
        "\n",
        "    (key, url, label) = key_url\n",
        "    \n",
        "    subfolder = os.path.join(out_dir, label)\n",
        "    if not os.path.exists(subfolder):\n",
        "      os.makedirs(subfolder)\n",
        "      \n",
        "    filename = os.path.join(subfolder, '{}.jpg'.format(key))\n",
        "\n",
        "    if os.path.exists(filename):\n",
        "        print('Image {} already exists. Skipping download.'.format(filename))\n",
        "        return\n",
        "\n",
        "    try:\n",
        "        response = request.urlopen(url)\n",
        "        image_data = response.read()\n",
        "    except:\n",
        "        print('Warning: Could not download image {} from {}'.format(key, url))\n",
        "        return\n",
        "\n",
        "    try:\n",
        "        pil_image = Image.open(BytesIO(image_data))\n",
        "    except:\n",
        "        print('Warning: Failed to parse image {}'.format(key))\n",
        "        return\n",
        "\n",
        "    try:\n",
        "        size = 256, 256\n",
        "        pil_image.thumbnail(size)\n",
        "    except:\n",
        "        print('Warning: Failed to resize image {} to {}x{}'.format(key, size[0], size[1]))\n",
        "        return\n",
        "      \n",
        "    try:\n",
        "        pil_image_rgb = pil_image.convert('RGB')\n",
        "    except:\n",
        "        print('Warning: Failed to convert image {} to RGB'.format(key))\n",
        "        return\n",
        "      \n",
        "    try:\n",
        "        pil_image_rgb.save(filename, format='jpeg', quality=90)\n",
        "    except:\n",
        "        print('Warning: Failed to save image {}'.format(filename))\n",
        "        return\n",
        "      \n",
        "def loader(data_file, out_dir):\n",
        "\n",
        "    if not os.path.exists(out_dir):\n",
        "        os.makedirs(out_dir)\n",
        "\n",
        "    key_url_list = parse_data(data_file)\n",
        "    pool = multiprocessing.Pool(processes=4)  # Num of CPUs\n",
        "    pool.map(download_image, key_url_list)\n",
        "    pool.close()\n",
        "    pool.terminate()"
      ],
      "execution_count": 0,
      "outputs": []
    },
    {
      "metadata": {
        "id": "-dNXZapILLjW",
        "colab_type": "code",
        "colab": {
          "autoexec": {
            "startup": false,
            "wait_interval": 0
          },
          "output_extras": [
            {}
          ],
          "base_uri": "https://localhost:8080/",
          "height": 272
        },
        "outputId": "b1688442-f524-4ed8-cf4c-6170a494be23",
        "executionInfo": {
          "status": "ok",
          "timestamp": 1521485260550,
          "user_tz": -540,
          "elapsed": 309993,
          "user": {
            "displayName": "John Hwang",
            "photoUrl": "https://lh3.googleusercontent.com/a/default-user=s128",
            "userId": "100225940964623691936"
          }
        }
      },
      "cell_type": "code",
      "source": [
        "out_dir = \"images/train\"\n",
        "loader(\"train_tmp.csv\", out_dir)\n",
        "out_dir = \"images/val\"\n",
        "loader(\"train_val.csv\", out_dir)"
      ],
      "execution_count": 0,
      "outputs": [
        {
          "output_type": "stream",
          "text": [
            "Warning: Could not download image f2fa81cf533a44fd from https://lh5.googleusercontent.com/--I3SddsQkbQ/SPenWcrUlrI/AAAAAAAAA1c/HF1CuNXbM6o/s1600/\n",
            "Warning: Could not download image 89a525051185672f from https://lh5.googleusercontent.com/-3W8PGYhRBAg/SfSWdls2r7I/AAAAAAAAAaI/jhLzbOBQ-1Q/s1600/\n",
            "Warning: Could not download image 42060bc378ac2d53 from http://lh3.ggpht.com/-c-SIyJRzFis/SvQfjfkhA3I/AAAAAAAADKM/w5GEgknm2O4/rj/\n",
            "Warning: Could not download image bf732be8aa5cc131 from https://lh6.googleusercontent.com/-CX1t0-IGdwg/ThmtuzGF8_I/AAAAAAAAEIM/Uxh6lU5z6G8/s1600/\n",
            "Warning: Could not download image 0390dfeeb33a975c from http://lh5.ggpht.com/-TWSj2130QtE/R-7Xlt246_I/AAAAAAAAAHk/mv4BrvdwXKw/s1600/\n",
            "Warning: Could not download image 0416d5584734d05a from https://lh3.googleusercontent.com/-4QWoCZJQ1pU/R1TLNt4QQ-I/AAAAAAAAAO0/Mjygo4oMnKY/s1600/\n",
            "Warning: Could not download image 0d828287c783b7c0 from https://lh3.googleusercontent.com/-MRz31eGquSg/S8N8XWVSHKI/AAAAAAAAEqg/GMXhGHN0J7g/s1600/\n",
            "Warning: Could not download image 78c8ff120bf10dee from https://lh3.googleusercontent.com/-bOe3mABywBY/SBUfyGF1otI/AAAAAAAAAbM/Y61GMSGPpxU/s1600/\n",
            "Warning: Could not download image a9ca90d4df9469d1 from https://lh4.googleusercontent.com/-EFPqexc3-lc/TC8zFqHSJiI/AAAAAAAACms/dv2nOZBkr2Q/rj/\n",
            "Warning: Could not download image 90c8e4de60034ede from http://lh5.ggpht.com/-nG7msDck6mU/TDTJsyu9h7I/AAAAAAAACCs/gx1SpmxLpf0/s1600/\n",
            "Warning: Could not download image b820207f74239ad6 from http://lh5.ggpht.com/-qWguNJ3w_90/SKqA2aO1ceI/AAAAAAAAAQQ/HZZ_B97EAGc/rj/\n",
            "Warning: Could not download image 8c978a9562406bd0 from https://lh3.googleusercontent.com/-maTU3YApI_A/TXC-JyXjjJI/AAAAAAAAAHw/UQU37YwdDK4/s1600/\n",
            "Warning: Could not download image b8283b891283bf20 from http://lh6.ggpht.com/-Zq7Zzr8trWQ/TRkFjavTE4I/AAAAAAAAAVk/ttijdHj4vkg/s1600/\n",
            "Warning: Could not download image 1cb9366c890f5d6c from https://lh3.googleusercontent.com/-C0BZ1DYcma8/Tl9IZM8zkAI/AAAAAAAAAEo/QvWm_hF6xZQ/s1600/\n",
            "Warning: Could not download image 4a211e8308e3298f from https://lh4.googleusercontent.com/-7H0g1fY-2ys/TkHtPEFmu9I/AAAAAAAAADs/BpCmc1J1jlM/s128/\n"
          ],
          "name": "stdout"
        }
      ]
    },
    {
      "metadata": {
        "id": "Z8KSZVuWYHVv",
        "colab_type": "text"
      },
      "cell_type": "markdown",
      "source": [
        "## Making \"train\" and \"val\" set\n",
        "\n",
        "Pytorch에서 input Variable을 만들기위해 Torch.utils.data.DataLoader를 만들어줄때, \n",
        "\n",
        "image파일 path가 [data_dir = images] > [train or val] > [label = 9655] > xxx.jpg 식으로 데이터가 들어가있어야 파싱이 정상적으로 됨"
      ]
    },
    {
      "metadata": {
        "id": "jbc7HyGjNRsh",
        "colab_type": "code",
        "colab": {
          "autoexec": {
            "startup": false,
            "wait_interval": 0
          }
        }
      },
      "cell_type": "code",
      "source": [
        "# Data augmentation and normalization for training\n",
        "# Just normalization for validation\n",
        "data_transforms = {\n",
        "    'train': transforms.Compose([\n",
        "        transforms.RandomResizedCrop(224),\n",
        "        transforms.RandomHorizontalFlip(),\n",
        "        transforms.ToTensor(),\n",
        "        transforms.Normalize([0.485, 0.456, 0.406], [0.229, 0.224, 0.225])\n",
        "    ]),\n",
        "    'val': transforms.Compose([\n",
        "        transforms.Resize(256),\n",
        "        transforms.CenterCrop(224),\n",
        "        transforms.ToTensor(),\n",
        "        transforms.Normalize([0.485, 0.456, 0.406], [0.229, 0.224, 0.225])\n",
        "    ]),\n",
        "}\n",
        "\n",
        "data_dir = 'images'\n",
        "image_dataset = {x: datasets.ImageFolder(os.path.join(data_dir, x), data_transforms[x]) for x in ['train', 'val']}\n",
        "image_datasets = {x: datasets.ImageFolder(os.path.join(data_dir, x), data_transforms[x]) for x in ['train', 'val']}\n",
        "dataloaders = {x: torch.utils.data.DataLoader(image_datasets[x], batch_size=1, shuffle=True, num_workers=4) for x in ['train', 'val']}\n",
        "dataset_sizes = {x: len(image_datasets[x]) for x in ['train', 'val']}\n",
        "class_names = image_datasets['train'].classes\n",
        "\n",
        "use_gpu = torch.cuda.is_available()"
      ],
      "execution_count": 0,
      "outputs": []
    },
    {
      "metadata": {
        "id": "Mrh6vDEEUoIQ",
        "colab_type": "code",
        "colab": {
          "autoexec": {
            "startup": false,
            "wait_interval": 0
          },
          "output_extras": [
            {}
          ],
          "base_uri": "https://localhost:8080/",
          "height": 280
        },
        "outputId": "6057b7fc-7a50-4a2a-a997-7d361cf5a68e",
        "executionInfo": {
          "status": "ok",
          "timestamp": 1521487816590,
          "user_tz": -540,
          "elapsed": 1767,
          "user": {
            "displayName": "John Hwang",
            "photoUrl": "https://lh3.googleusercontent.com/a/default-user=s128",
            "userId": "100225940964623691936"
          }
        }
      },
      "cell_type": "code",
      "source": [
        "def imshow(inp, title=None):\n",
        "    \"\"\"Imshow for Tensor.\"\"\"\n",
        "    inp = inp.numpy().transpose((1, 2, 0))\n",
        "    mean = np.array([0.485, 0.456, 0.406])\n",
        "    std = np.array([0.229, 0.224, 0.225])\n",
        "    inp = std * inp + mean\n",
        "    inp = np.clip(inp, 0, 1)\n",
        "    plt.imshow(inp)\n",
        "    if title is not None:\n",
        "        plt.title(title)\n",
        "    plt.pause(0.001)  # pause a bit so that plots are updated\n",
        "\n",
        "\n",
        "# Get a batch of training data\n",
        "inputs, classes = next(iter(dataloaders['train']))\n",
        "\n",
        "# Make a grid from batch\n",
        "out = torchvision.utils.make_grid(inputs)\n",
        "\n",
        "imshow(out, title=[class_names[x] for x in classes])"
      ],
      "execution_count": 0,
      "outputs": [
        {
          "output_type": "display_data",
          "data": {
            "image/png": "[encoded data removed]",
            "text/plain": [
              "<matplotlib.figure.Figure at 0x7f17f1652390>"
            ]
          },
          "metadata": {
            "tags": []
          }
        }
      ]
    },
    {
      "metadata": {
        "id": "IbIQhgLQXbcB",
        "colab_type": "text"
      },
      "cell_type": "markdown",
      "source": [
        "## Train model"
      ]
    },
    {
      "metadata": {
        "id": "yf5hzNJnDYYC",
        "colab_type": "code",
        "colab": {
          "autoexec": {
            "startup": false,
            "wait_interval": 0
          }
        }
      },
      "cell_type": "code",
      "source": [
        "def train_model(model, criterion, optimizer, scheduler, num_epochs=25):\n",
        "    since = time.time()\n",
        "\n",
        "    best_model_wts = copy.deepcopy(model.state_dict())\n",
        "    best_acc = 0.0\n",
        "\n",
        "    for epoch in range(num_epochs):\n",
        "        print('Epoch {}/{}'.format(epoch, num_epochs - 1))\n",
        "        print('-' * 10)\n",
        "\n",
        "        # Each epoch has a training and validation phase\n",
        "        for phase in ['train', 'val']:\n",
        "            if phase == 'train':\n",
        "                scheduler.step()\n",
        "                model.train(True)  # Set model to training mode\n",
        "            else:\n",
        "                model.train(False)  # Set model to evaluate mode\n",
        "\n",
        "            running_loss = 0.0\n",
        "            running_corrects = 0\n",
        "\n",
        "            # Iterate over data.\n",
        "            for data in dataloaders[phase]:\n",
        "                # get the inputs\n",
        "                inputs, labels = data\n",
        "\n",
        "                # wrap them in Variable\n",
        "                if use_gpu:\n",
        "                    inputs = Variable(inputs.cuda())\n",
        "                    labels = Variable(labels.cuda())\n",
        "                else:\n",
        "                    inputs, labels = Variable(inputs), Variable(labels)\n",
        "\n",
        "                # zero the parameter gradients\n",
        "                optimizer.zero_grad()\n",
        "\n",
        "                # forward\n",
        "                outputs = model(inputs)\n",
        "                _, preds = torch.max(outputs.data, 1)\n",
        "                loss = criterion(outputs, labels)\n",
        "\n",
        "                # backward + optimize only if in training phase\n",
        "                if phase == 'train':\n",
        "                    loss.backward()\n",
        "                    optimizer.step()\n",
        "\n",
        "                # statistics\n",
        "                running_loss += loss.data[0] * inputs.size(0)\n",
        "                running_corrects += torch.sum(preds == labels.data)\n",
        "\n",
        "            epoch_loss = running_loss / dataset_sizes[phase]\n",
        "            epoch_acc = running_corrects / dataset_sizes[phase]\n",
        "\n",
        "            print('{} Loss: {:.4f} Acc: {:.4f}'.format(\n",
        "                phase, epoch_loss, epoch_acc))\n",
        "\n",
        "            # deep copy the model\n",
        "            if phase == 'val' and epoch_acc > best_acc:\n",
        "                best_acc = epoch_acc\n",
        "                best_model_wts = copy.deepcopy(model.state_dict())\n",
        "\n",
        "        print()\n",
        "\n",
        "    time_elapsed = time.time() - since\n",
        "    print('Training complete in {:.0f}m {:.0f}s'.format(\n",
        "        time_elapsed // 60, time_elapsed % 60))\n",
        "    print('Best val Acc: {:4f}'.format(best_acc))\n",
        "\n",
        "    # load best model weights\n",
        "    model.load_state_dict(best_model_wts)\n",
        "    return model"
      ],
      "execution_count": 0,
      "outputs": []
    },
    {
      "metadata": {
        "id": "8Exv0QTSYf8U",
        "colab_type": "text"
      },
      "cell_type": "markdown",
      "source": [
        "## Visualizing the model predictions"
      ]
    },
    {
      "metadata": {
        "id": "EO0KZ0ATYdjl",
        "colab_type": "code",
        "colab": {
          "autoexec": {
            "startup": false,
            "wait_interval": 0
          }
        }
      },
      "cell_type": "code",
      "source": [
        "def visualize_model(model, num_images=6):\n",
        "    was_training = model.training\n",
        "    model.eval()\n",
        "    images_so_far = 0\n",
        "    fig = plt.figure()\n",
        "\n",
        "    for i, data in enumerate(dataloaders['val']):\n",
        "        inputs, labels = data\n",
        "        if use_gpu:\n",
        "            inputs, labels = Variable(inputs.cuda()), Variable(labels.cuda())\n",
        "        else:\n",
        "            inputs, labels = Variable(inputs), Variable(labels)\n",
        "\n",
        "        outputs = model(inputs)\n",
        "        _, preds = torch.max(outputs.data, 1)\n",
        "\n",
        "        for j in range(inputs.size()[0]):\n",
        "            images_so_far += 1\n",
        "            ax = plt.subplot(num_images//2, 2, images_so_far)\n",
        "            ax.axis('off')\n",
        "            ax.set_title('predicted: {}'.format(class_names[preds[j]]))\n",
        "            imshow(inputs.cpu().data[j])\n",
        "\n",
        "            if images_so_far == num_images:\n",
        "                model.train(mode=was_training)\n",
        "                return\n",
        "    model.train(mode=was_training)"
      ],
      "execution_count": 0,
      "outputs": []
    },
    {
      "metadata": {
        "id": "PAL1OcmsYmcq",
        "colab_type": "text"
      },
      "cell_type": "markdown",
      "source": [
        "## Finetuning the convnet"
      ]
    },
    {
      "metadata": {
        "id": "DlqmwL2iYi0T",
        "colab_type": "code",
        "colab": {
          "autoexec": {
            "startup": false,
            "wait_interval": 0
          }
        }
      },
      "cell_type": "code",
      "source": [
        "model_ft = models.resnet18(pretrained=True)\n",
        "num_ftrs = model_ft.fc.in_features\n",
        "model_ft.fc = nn.Linear(num_ftrs, 2)\n",
        "\n",
        "if use_gpu:\n",
        "    model_ft = model_ft.cuda()\n",
        "\n",
        "criterion = nn.CrossEntropyLoss()\n",
        "\n",
        "# Observe that all parameters are being optimized\n",
        "optimizer_ft = optim.SGD(model_ft.parameters(), lr=0.001, momentum=0.9)\n",
        "\n",
        "# Decay LR by a factor of 0.1 every 7 epochs\n",
        "exp_lr_scheduler = lr_scheduler.StepLR(optimizer_ft, step_size=7, gamma=0.1)"
      ],
      "execution_count": 0,
      "outputs": []
    },
    {
      "metadata": {
        "id": "6aOeAb1KZHzQ",
        "colab_type": "text"
      },
      "cell_type": "markdown",
      "source": [
        "## Train and evaluate"
      ]
    },
    {
      "metadata": {
        "id": "Z2hKb5n2ZCGb",
        "colab_type": "code",
        "colab": {
          "autoexec": {
            "startup": false,
            "wait_interval": 0
          },
          "output_extras": [
            {}
          ],
          "base_uri": "https://localhost:8080/",
          "height": 2176
        },
        "outputId": "31018065-b5b0-4d8c-cba0-233a8371543e",
        "executionInfo": {
          "status": "ok",
          "timestamp": 1521487883450,
          "user_tz": -540,
          "elapsed": 54371,
          "user": {
            "displayName": "John Hwang",
            "photoUrl": "https://lh3.googleusercontent.com/a/default-user=s128",
            "userId": "100225940964623691936"
          }
        }
      },
      "cell_type": "code",
      "source": [
        "model_ft = train_model(model_ft, criterion, optimizer_ft, exp_lr_scheduler,\n",
        "                       num_epochs=25)"
      ],
      "execution_count": 0,
      "outputs": [
        {
          "output_type": "stream",
          "text": [
            "Epoch 0/24\n",
            "----------\n",
            "train Loss: 1.4028 Acc: 0.3750\n",
            "val Loss: 0.5280 Acc: 0.5000\n",
            "\n",
            "Epoch 1/24\n",
            "----------\n",
            "train Loss: 2.1890 Acc: 0.5750\n",
            "val Loss: 1.8125 Acc: 0.5000\n",
            "\n",
            "Epoch 2/24\n",
            "----------\n",
            "train Loss: 1.2128 Acc: 0.3500\n",
            "val Loss: 0.4024 Acc: 0.5000\n",
            "\n",
            "Epoch 3/24\n",
            "----------\n",
            "train Loss: 1.6106 Acc: 0.5000\n",
            "val Loss: 1.1319 Acc: 0.5000\n",
            "\n",
            "Epoch 4/24\n",
            "----------\n",
            "train Loss: 1.2824 Acc: 0.4000\n",
            "val Loss: 1.4711 Acc: 0.5000\n",
            "\n",
            "Epoch 5/24\n",
            "----------\n",
            "train Loss: 0.9940 Acc: 0.3250\n",
            "val Loss: 0.4199 Acc: 1.0000\n",
            "\n",
            "Epoch 6/24\n",
            "----------\n",
            "train Loss: 1.3410 Acc: 0.4500\n",
            "val Loss: 0.4913 Acc: 0.5000\n",
            "\n",
            "Epoch 7/24\n",
            "----------\n",
            "train Loss: 0.7403 Acc: 0.5500\n",
            "val Loss: 0.4487 Acc: 1.0000\n",
            "\n",
            "Epoch 8/24\n",
            "----------\n",
            "train Loss: 0.6926 Acc: 0.4500\n",
            "val Loss: 0.2596 Acc: 1.0000\n",
            "\n",
            "Epoch 9/24\n",
            "----------\n",
            "train Loss: 0.7135 Acc: 0.5000\n",
            "val Loss: 0.3196 Acc: 1.0000\n",
            "\n",
            "Epoch 10/24\n",
            "----------\n",
            "train Loss: 0.7676 Acc: 0.4000\n",
            "val Loss: 0.3815 Acc: 1.0000\n",
            "\n",
            "Epoch 11/24\n",
            "----------\n",
            "train Loss: 0.7805 Acc: 0.3500\n",
            "val Loss: 0.6849 Acc: 0.5000\n",
            "\n",
            "Epoch 12/24\n",
            "----------\n",
            "train Loss: 0.7307 Acc: 0.4750\n",
            "val Loss: 0.2832 Acc: 1.0000\n",
            "\n",
            "Epoch 13/24\n",
            "----------\n",
            "train Loss: 0.7275 Acc: 0.3750\n",
            "val Loss: 0.1732 Acc: 1.0000\n",
            "\n",
            "Epoch 14/24\n",
            "----------\n",
            "train Loss: 0.6770 Acc: 0.5000\n",
            "val Loss: 0.2969 Acc: 1.0000\n",
            "\n",
            "Epoch 15/24\n",
            "----------\n",
            "train Loss: 0.6753 Acc: 0.5250\n",
            "val Loss: 0.3437 Acc: 1.0000\n",
            "\n",
            "Epoch 16/24\n",
            "----------\n",
            "train Loss: 0.6668 Acc: 0.7500\n",
            "val Loss: 0.2819 Acc: 1.0000\n",
            "\n",
            "Epoch 17/24\n",
            "----------\n",
            "train Loss: 0.6747 Acc: 0.7250\n",
            "val Loss: 0.3043 Acc: 1.0000\n",
            "\n",
            "Epoch 18/24\n",
            "----------\n",
            "train Loss: 0.6757 Acc: 0.6250\n",
            "val Loss: 0.3445 Acc: 1.0000\n",
            "\n",
            "Epoch 19/24\n",
            "----------\n",
            "train Loss: 0.6716 Acc: 0.7500\n",
            "val Loss: 0.3111 Acc: 1.0000\n",
            "\n",
            "Epoch 20/24\n",
            "----------\n",
            "train Loss: 0.6728 Acc: 0.7250\n",
            "val Loss: 0.3613 Acc: 1.0000\n",
            "\n",
            "Epoch 21/24\n",
            "----------\n",
            "train Loss: 0.6630 Acc: 0.7500\n",
            "val Loss: 0.3863 Acc: 1.0000\n",
            "\n",
            "Epoch 22/24\n",
            "----------\n",
            "train Loss: 0.6724 Acc: 0.7000\n",
            "val Loss: 0.3643 Acc: 1.0000\n",
            "\n",
            "Epoch 23/24\n",
            "----------\n",
            "train Loss: 0.6728 Acc: 0.7250\n",
            "val Loss: 0.3542 Acc: 1.0000\n",
            "\n",
            "Epoch 24/24\n",
            "----------\n",
            "train Loss: 0.6791 Acc: 0.6000\n",
            "val Loss: 0.3986 Acc: 1.0000\n",
            "\n",
            "Training complete in 0m 54s\n",
            "Best val Acc: 1.000000\n"
          ],
          "name": "stdout"
        }
      ]
    },
    {
      "metadata": {
        "id": "aBaLqQhwZJzP",
        "colab_type": "code",
        "colab": {
          "autoexec": {
            "startup": false,
            "wait_interval": 0
          },
          "output_extras": [
            {},
            {}
          ],
          "base_uri": "https://localhost:8080/",
          "height": 237
        },
        "outputId": "f3f88109-94e0-44c7-a00e-f52e54fddb4e",
        "executionInfo": {
          "status": "ok",
          "timestamp": 1521487888592,
          "user_tz": -540,
          "elapsed": 1021,
          "user": {
            "displayName": "John Hwang",
            "photoUrl": "https://lh3.googleusercontent.com/a/default-user=s128",
            "userId": "100225940964623691936"
          }
        }
      },
      "cell_type": "code",
      "source": [
        "visualize_model(model_ft)"
      ],
      "execution_count": 0,
      "outputs": [
        {
          "output_type": "display_data",
          "data": {
            "image/png": "[encoded data removed]",
            "text/plain": [
              "<matplotlib.figure.Figure at 0x7f17b1ee49e8>"
            ]
          },
          "metadata": {
            "tags": []
          }
        },
        {
          "output_type": "display_data",
          "data": {
            "image/png": "[encoded data removed]",
            "text/plain": [
              "<matplotlib.figure.Figure at 0x7f177c246c50>"
            ]
          },
          "metadata": {
            "tags": []
          }
        }
      ]
    },
    {
      "metadata": {
        "id": "55CUchJZvxIW",
        "colab_type": "text"
      },
      "cell_type": "markdown",
      "source": [
        "## ConvNet as fixed feature extractor"
      ]
    },
    {
      "metadata": {
        "id": "TRxzBCRKvryY",
        "colab_type": "code",
        "colab": {
          "autoexec": {
            "startup": false,
            "wait_interval": 0
          }
        }
      },
      "cell_type": "code",
      "source": [
        "# model_ft = models.resnet18(pretrained=True)\n",
        "# num_ftrs = model_ft.fc.in_features\n",
        "# model_ft.fc = nn.Linear(num_ftrs, 2)\n",
        "\n",
        "# if use_gpu:\n",
        "#     model_ft = model_ft.cuda()\n",
        "\n",
        "# criterion = nn.CrossEntropyLoss()\n",
        "\n",
        "# # Observe that all parameters are being optimized\n",
        "# optimizer_ft = optim.SGD(model_ft.parameters(), lr=0.001, momentum=0.9)\n",
        "\n",
        "# # Decay LR by a factor of 0.1 every 7 epochs\n",
        "# exp_lr_scheduler = lr_scheduler.StepLR(optimizer_ft, step_size=7, gamma=0.1)\n",
        "\n",
        "model_conv = torchvision.models.resnet18(pretrained=True)\n",
        "for param in model_conv.parameters():\n",
        "    param.requires_grad = False\n",
        "\n",
        "# Parameters of newly constructed modules have requires_grad=True by default\n",
        "num_ftrs = model_conv.fc.in_features\n",
        "model_conv.fc = nn.Linear(num_ftrs, 2)\n",
        "\n",
        "if use_gpu:\n",
        "    model_conv = model_conv.cuda()\n",
        "\n",
        "criterion = nn.CrossEntropyLoss()\n",
        "\n",
        "# Observe that only parameters of final layer are being optimized as\n",
        "# opoosed to before.\n",
        "optimizer_conv = optim.SGD(model_conv.fc.parameters(), lr=0.001, momentum=0.9)\n",
        "\n",
        "# Decay LR by a factor of 0.1 every 7 epochs\n",
        "exp_lr_scheduler = lr_scheduler.StepLR(optimizer_conv, step_size=7, gamma=0.1)"
      ],
      "execution_count": 0,
      "outputs": []
    },
    {
      "metadata": {
        "id": "GdFGmLGHv2L0",
        "colab_type": "text"
      },
      "cell_type": "markdown",
      "source": [
        "## Train and evaluate"
      ]
    },
    {
      "metadata": {
        "id": "_7KnIqb8vzb-",
        "colab_type": "code",
        "colab": {
          "autoexec": {
            "startup": false,
            "wait_interval": 0
          },
          "output_extras": [
            {}
          ],
          "base_uri": "https://localhost:8080/",
          "height": 2176
        },
        "outputId": "925ee853-b60a-4c7b-a5f8-729aa258a949",
        "executionInfo": {
          "status": "ok",
          "timestamp": 1521487981691,
          "user_tz": -540,
          "elapsed": 43369,
          "user": {
            "displayName": "John Hwang",
            "photoUrl": "https://lh3.googleusercontent.com/a/default-user=s128",
            "userId": "100225940964623691936"
          }
        }
      },
      "cell_type": "code",
      "source": [
        "model_conv = train_model(model_conv, criterion, optimizer_conv,\n",
        "                         exp_lr_scheduler, num_epochs=25)"
      ],
      "execution_count": 0,
      "outputs": [
        {
          "output_type": "stream",
          "text": [
            "Epoch 0/24\n",
            "----------\n",
            "train Loss: 1.9404 Acc: 0.5000\n",
            "val Loss: 4.2291 Acc: 0.5000\n",
            "\n",
            "Epoch 1/24\n",
            "----------\n",
            "train Loss: 2.3315 Acc: 0.5500\n",
            "val Loss: 4.1418 Acc: 0.5000\n",
            "\n",
            "Epoch 2/24\n",
            "----------\n",
            "train Loss: 1.7327 Acc: 0.4250\n",
            "val Loss: 1.1592 Acc: 0.5000\n",
            "\n",
            "Epoch 3/24\n",
            "----------\n",
            "train Loss: 1.4271 Acc: 0.6750\n",
            "val Loss: 2.5913 Acc: 0.5000\n",
            "\n",
            "Epoch 4/24\n",
            "----------\n",
            "train Loss: 1.1240 Acc: 0.5000\n",
            "val Loss: 1.1136 Acc: 0.5000\n",
            "\n",
            "Epoch 5/24\n",
            "----------\n",
            "train Loss: 2.0847 Acc: 0.3750\n",
            "val Loss: 2.3192 Acc: 0.5000\n",
            "\n",
            "Epoch 6/24\n",
            "----------\n",
            "train Loss: 1.0164 Acc: 0.5000\n",
            "val Loss: 1.0033 Acc: 0.0000\n",
            "\n",
            "Epoch 7/24\n",
            "----------\n",
            "train Loss: 0.7332 Acc: 0.5750\n",
            "val Loss: 1.3875 Acc: 0.5000\n",
            "\n",
            "Epoch 8/24\n",
            "----------\n",
            "train Loss: 0.7278 Acc: 0.4000\n",
            "val Loss: 1.4496 Acc: 0.5000\n",
            "\n",
            "Epoch 9/24\n",
            "----------\n",
            "train Loss: 0.7257 Acc: 0.5250\n",
            "val Loss: 0.9478 Acc: 0.0000\n",
            "\n",
            "Epoch 10/24\n",
            "----------\n",
            "train Loss: 0.7803 Acc: 0.5750\n",
            "val Loss: 0.9677 Acc: 0.0000\n",
            "\n",
            "Epoch 11/24\n",
            "----------\n",
            "train Loss: 0.7332 Acc: 0.5000\n",
            "val Loss: 1.0905 Acc: 0.0000\n",
            "\n",
            "Epoch 12/24\n",
            "----------\n",
            "train Loss: 0.8199 Acc: 0.4000\n",
            "val Loss: 1.4906 Acc: 0.5000\n",
            "\n",
            "Epoch 13/24\n",
            "----------\n",
            "train Loss: 0.8131 Acc: 0.4750\n",
            "val Loss: 1.4379 Acc: 0.5000\n",
            "\n",
            "Epoch 14/24\n",
            "----------\n",
            "train Loss: 0.7272 Acc: 0.5000\n",
            "val Loss: 1.1689 Acc: 0.5000\n",
            "\n",
            "Epoch 15/24\n",
            "----------\n",
            "train Loss: 0.6960 Acc: 0.5250\n",
            "val Loss: 1.0362 Acc: 0.5000\n",
            "\n",
            "Epoch 16/24\n",
            "----------\n",
            "train Loss: 0.7007 Acc: 0.4750\n",
            "val Loss: 1.1328 Acc: 0.5000\n",
            "\n",
            "Epoch 17/24\n",
            "----------\n",
            "train Loss: 0.6848 Acc: 0.6250\n",
            "val Loss: 1.2367 Acc: 0.5000\n",
            "\n",
            "Epoch 18/24\n",
            "----------\n",
            "train Loss: 0.6866 Acc: 0.6250\n",
            "val Loss: 1.2932 Acc: 0.0000\n",
            "\n",
            "Epoch 19/24\n",
            "----------\n",
            "train Loss: 0.6909 Acc: 0.5750\n",
            "val Loss: 1.1705 Acc: 0.5000\n",
            "\n",
            "Epoch 20/24\n",
            "----------\n",
            "train Loss: 0.6893 Acc: 0.6000\n",
            "val Loss: 1.3514 Acc: 0.5000\n",
            "\n",
            "Epoch 21/24\n",
            "----------\n",
            "train Loss: 0.6889 Acc: 0.5500\n",
            "val Loss: 1.2708 Acc: 0.5000\n",
            "\n",
            "Epoch 22/24\n",
            "----------\n",
            "train Loss: 0.6889 Acc: 0.5250\n",
            "val Loss: 1.3085 Acc: 0.5000\n",
            "\n",
            "Epoch 23/24\n",
            "----------\n",
            "train Loss: 0.6845 Acc: 0.7000\n",
            "val Loss: 1.2091 Acc: 0.5000\n",
            "\n",
            "Epoch 24/24\n",
            "----------\n",
            "train Loss: 0.6854 Acc: 0.5750\n",
            "val Loss: 1.0658 Acc: 0.5000\n",
            "\n",
            "Training complete in 0m 43s\n",
            "Best val Acc: 0.500000\n"
          ],
          "name": "stdout"
        }
      ]
    },
    {
      "metadata": {
        "id": "n92QHM4jv4LV",
        "colab_type": "code",
        "colab": {
          "autoexec": {
            "startup": false,
            "wait_interval": 0
          },
          "output_extras": [
            {},
            {}
          ],
          "base_uri": "https://localhost:8080/",
          "height": 237
        },
        "outputId": "c552e867-4d1e-4e44-bbdc-ac50a006fe16",
        "executionInfo": {
          "status": "ok",
          "timestamp": 1521487984957,
          "user_tz": -540,
          "elapsed": 1085,
          "user": {
            "displayName": "John Hwang",
            "photoUrl": "https://lh3.googleusercontent.com/a/default-user=s128",
            "userId": "100225940964623691936"
          }
        }
      },
      "cell_type": "code",
      "source": [
        "visualize_model(model_conv)\n",
        "\n",
        "plt.ioff()\n",
        "plt.show()"
      ],
      "execution_count": 0,
      "outputs": [
        {
          "output_type": "display_data",
          "data": {
            "image/png": "[encoded data removed]",
            "text/plain": [
              "<matplotlib.figure.Figure at 0x7f176a328b38>"
            ]
          },
          "metadata": {
            "tags": []
          }
        },
        {
          "output_type": "display_data",
          "data": {
            "image/png": "[encoded data removed]",
            "text/plain": [
              "<matplotlib.figure.Figure at 0x7f177c19a4e0>"
            ]
          },
          "metadata": {
            "tags": []
          }
        }
      ]
    },
    {
      "metadata": {
        "id": "pcBYFxQ4wDTC",
        "colab_type": "code",
        "colab": {
          "autoexec": {
            "startup": false,
            "wait_interval": 0
          }
        }
      },
      "cell_type": "code",
      "source": [
        ""
      ],
      "execution_count": 0,
      "outputs": []
    }
  ]
}